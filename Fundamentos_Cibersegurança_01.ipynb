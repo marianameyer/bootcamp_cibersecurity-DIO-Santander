{
  "nbformat": 4,
  "nbformat_minor": 0,
  "metadata": {
    "colab": {
      "provenance": [],
      "authorship_tag": "ABX9TyOQ51gn9+Bc/4MlT0LpsxMJ",
      "include_colab_link": true
    },
    "kernelspec": {
      "name": "python3",
      "display_name": "Python 3"
    },
    "language_info": {
      "name": "python"
    }
  },
  "cells": [
    {
      "cell_type": "markdown",
      "metadata": {
        "id": "view-in-github",
        "colab_type": "text"
      },
      "source": [
        "<a href=\"https://colab.research.google.com/github/marianameyer/bootcamp_cibersecurity-DIO-Santander/blob/main/Fundamentos_Ciberseguran%C3%A7a_01.ipynb\" target=\"_parent\"><img src=\"https://colab.research.google.com/assets/colab-badge.svg\" alt=\"Open In Colab\"/></a>"
      ]
    },
    {
      "cell_type": "markdown",
      "source": [
        "#**Explorando os Fundamentos de Cibersegurança com Desafios de Código em Python**"
      ],
      "metadata": {
        "id": "dF1u06Tvm8ZO"
      }
    },
    {
      "cell_type": "markdown",
      "source": [
        "##**Exercício 1**\n",
        "\n",
        "**Descrição**\n",
        "Você foi encarregado de criar um sistema simples que verifica a integridade de arquivos, comparando o hash fornecido pelo usuário com o hash real do arquivo. Na função verificar_hashes que irá receber uma lista de hashes e compará-los com os valores esperados para cada arquivo. Seu objetivo é verificar se o hash calculado é igual ao hash esperado.\n",
        "\n",
        "**Entrada**\n",
        "Uma lista de pares de hashes (hash calculado e hash esperado), separados por vírgulas, e cada par separado por ponto e vírgula.\n",
        "\n",
        "**Saída**\n",
        "Para cada par de hashes fornecido, o código imprime o resultado \"Correto\" ou \"Inválido\".\n",
        "\n",
        "**Exemplos**\n",
        "A tabela abaixo apresenta exemplos com alguns dados de entrada e suas respectivas saídas esperadas. Certifique-se de testar seu programa com esses exemplos e com outros casos possíveis.\n",
        "\n",
        "Entrada\t                           Saída\n",
        "\n",
        "abc123, abc123\t                   Correto\n",
        "\n",
        "def456, def789\t                   Inválido\n",
        "\n",
        "123abc, 123abc; 456def,456def\t     Correto\n",
        "                                   Correto"
      ],
      "metadata": {
        "id": "KpsAtGsCmV_s"
      }
    },
    {
      "cell_type": "code",
      "execution_count": 3,
      "metadata": {
        "colab": {
          "base_uri": "https://localhost:8080/"
        },
        "id": "rkEPviR1kaCV",
        "outputId": "5766e7f7-918d-4d42-b47a-a1709cb04deb"
      },
      "outputs": [
        {
          "output_type": "stream",
          "name": "stdout",
          "text": [
            "abc123, abc123\n",
            "Correto\n"
          ]
        }
      ],
      "source": [
        "def verificar_hashes(lista_hashes):\n",
        "\n",
        "    for hash_comparacao in lista_hashes:\n",
        "\n",
        "        hash_calculado, hash_esperado = hash_comparacao.split(\",\")\n",
        "\n",
        "        hash_calculado = hash_calculado.replace(' ','')\n",
        "        hash_esperado = hash_esperado.replace(' ', '')\n",
        "\n",
        "        if hash_calculado == hash_esperado:\n",
        "\n",
        "          print('Correto')\n",
        "\n",
        "        else:\n",
        "\n",
        "          print('Inválido')\n",
        "\n",
        "hashes_usuario = input()\n",
        "\n",
        "lista_hashes = hashes_usuario.split(\";\")\n",
        "\n",
        "verificar_hashes(lista_hashes)"
      ]
    },
    {
      "cell_type": "markdown",
      "source": [
        "##**Exercício 2**\n",
        "\n",
        "**Descrição**\n",
        "Desenvolva um sistema que simule a enumeração de serviços em um servidor, dado um conjunto de portas e serviços associados. Você deve receber uma lista de números de portas e, para cada porta, retornar o serviço associado. Se a porta não estiver no dicionário, retorna \"Desconhecido\".\n",
        "\n",
        "**Entrada**\n",
        "Uma lista de números de portas separados por vírgula.\n",
        "\n",
        "**Saída**\n",
        "Uma lista de serviços correspondentes a essas portas.\n",
        "\n",
        "**Exemplos**\n",
        "A tabela abaixo apresenta exemplos com alguns dados de entrada e suas respectivas saídas esperadas. Certifique-se de testar seu programa com esses exemplos e com outros casos possíveis.\n",
        "\n",
        "**Entrada .....|..... Saída**\n",
        "\n",
        "22, 80, 443\t| ['SSH', 'HTTP', 'HTTPS']\n",
        "\n",
        "21, 53, 3306\t| ['FTP', 'DNS', 'MySQL']\n",
        "\n",
        "23, 443, 8080\t| ['Telnet', 'HTTPS', 'Desconhecido']"
      ],
      "metadata": {
        "id": "WWXbJKHVnXiS"
      }
    },
    {
      "cell_type": "code",
      "source": [
        "# Dicionário que mapeia números de portas aos serviços correspondentes\n",
        "port_services = {\n",
        "    21: \"FTP\",      # Serviço de transferência de arquivos\n",
        "    22: \"SSH\",      # Secure Shell (acesso remoto seguro)\n",
        "    23: \"Telnet\",   # Protocolo de acesso remoto inseguro\n",
        "    25: \"SMTP\",     # Serviço de envio de emails\n",
        "    53: \"DNS\",      # Serviço de tradução de nomes de domínio\n",
        "    80: \"HTTP\",     # Protocolo de transferência de hipertexto (web)\n",
        "    110: \"POP3\",    # Serviço de recebimento de emails\n",
        "    143: \"IMAP\",    # Serviço de recebimento de emails com suporte a pastas\n",
        "    443: \"HTTPS\",   # Protocolo seguro de transferência de hipertexto\n",
        "    3306: \"MySQL\",  # Banco de dados MySQL\n",
        "    3389: \"RDP\",    # Remote Desktop Protocol (Acesso remoto ao Windows)\n",
        "    5432: \"PostgreSQL\", # Banco de dados PostgreSQL\n",
        "    6379: \"Redis\"   # Banco de dados Redis\n",
        "}\n",
        "\n",
        "# Função que realiza a enumeração de serviços\n",
        "def enumerate_services(ports):\n",
        "    # Inicializamos uma lista para armazenar os serviços correspondentes\n",
        "    services = []\n",
        "\n",
        "    # Itere sobre cada porta fornecida na lista de portas\n",
        "    for port in ports:\n",
        "\n",
        "        # Verifique se a porta existe no dicionário de serviços\n",
        "      if port in port_services:\n",
        "\n",
        "            # Se existir, adicione o serviço correspondente à lista de serviços\n",
        "            # Logo, iremos adicionar o valor, e não a chave ( chave[valor] )\n",
        "        services.append(port_services[port])\n",
        "\n",
        "            # Se a porta não estiver mapeada, adicione \"Desconhecido\"\n",
        "      else:\n",
        "        services.append('Desconhecido')\n",
        "\n",
        "\n",
        "    return services\n",
        "\n",
        "# Função principal que lida com a entrada do usuário e exibe o resultado:\n",
        "def main():\n",
        "    ports_input = input()\n",
        "\n",
        "    # Criando uma lista vazia para salvar os valores de entrada\n",
        "    ports_list = []\n",
        "\n",
        "    # Converta a string de entrada para uma lista de inteiros (números de portas)\n",
        "    # Utilize a função strip() para remove espaços em branco, e o split() para separar por vírgula\n",
        "\n",
        "    # Iterando item a item da entrada, separada por vírgula\n",
        "    for port_i in ports_input.split(','):\n",
        "      # Para cada elemento, são eliminados os espaços em branco, depois são convertidos para inteiros.\n",
        "      # Por fim, são adicionados à lista ports_list\n",
        "      ports_list.append(int(port_i.strip()))\n",
        "\n",
        "    # Chame a função de enumeração para obter a lista de serviços correspondentes:\n",
        "    services = enumerate_services(ports_list)\n",
        "\n",
        "    print(services)\n",
        "\n",
        "\n",
        "if __name__ == \"__main__\":\n",
        "    main()"
      ],
      "metadata": {
        "colab": {
          "base_uri": "https://localhost:8080/"
        },
        "id": "DaekokM3k0dh",
        "outputId": "2bfc47bf-f37e-46cc-f5dc-ceacd89bb72a"
      },
      "execution_count": 9,
      "outputs": [
        {
          "output_type": "stream",
          "name": "stdout",
          "text": [
            "23, 443, 8080\n",
            "['Telnet', 'HTTPS', 'Desconhecido']\n"
          ]
        }
      ]
    }
  ]
}